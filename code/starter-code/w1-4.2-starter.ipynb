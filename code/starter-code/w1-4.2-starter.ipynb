{
 "cells": [
  {
   "cell_type": "code",
   "execution_count": 125,
   "metadata": {
    "collapsed": false
   },
   "outputs": [
    {
     "data": {
      "text/plain": [
       "array([1, 2, 3, 4, 5])"
      ]
     },
     "execution_count": 125,
     "metadata": {},
     "output_type": "execute_result"
    }
   ],
   "source": [
    "# import numpy\n",
    "import numpy as np\n",
    "# create array x\n",
    "x = np.array([1, 2, 3, 4, 5])\n",
    "x"
   ]
  },
  {
   "cell_type": "code",
   "execution_count": 9,
   "metadata": {
    "collapsed": false
   },
   "outputs": [
    {
     "name": "stdout",
     "output_type": "stream",
     "text": [
      "(5,)\n"
     ]
    }
   ],
   "source": [
    "# print the shape of x\n",
    "print np.shape(x)\n"
   ]
  },
  {
   "cell_type": "code",
   "execution_count": 12,
   "metadata": {
    "collapsed": false
   },
   "outputs": [
    {
     "name": "stdout",
     "output_type": "stream",
     "text": [
      "[[1 2 3]\n",
      " [3 4 5]]\n"
     ]
    }
   ],
   "source": [
    "# create a two dimensional array\n",
    "y = np.array([[1,2,3],[3,4,5]])\n",
    "print y"
   ]
  },
  {
   "cell_type": "code",
   "execution_count": 13,
   "metadata": {
    "collapsed": false
   },
   "outputs": [
    {
     "name": "stdout",
     "output_type": "stream",
     "text": [
      "(2, 3)\n"
     ]
    }
   ],
   "source": [
    "# print shape of 2d array\n",
    "print np.shape(y)"
   ]
  },
  {
   "cell_type": "code",
   "execution_count": 115,
   "metadata": {
    "collapsed": false
   },
   "outputs": [
    {
     "name": "stdout",
     "output_type": "stream",
     "text": [
      "[[1 2 3]\n",
      " [3 4 5]\n",
      " [1 2 3]\n",
      " [3 4 5]]\n",
      "\n",
      "\n",
      "[[1 2 3 3 4 5]\n",
      " [1 2 3 3 4 5]]\n"
     ]
    }
   ],
   "source": [
    "# reshape the array to 2 x 6\n",
    "z = np.array([[1,2,3],[3,4,5],[1,2,3],[3,4,5]])\n",
    "print z\n",
    "print '\\n'\n",
    "print np.reshape(z,(2,6))\n"
   ]
  },
  {
   "cell_type": "code",
   "execution_count": 53,
   "metadata": {
    "collapsed": false
   },
   "outputs": [
    {
     "name": "stdout",
     "output_type": "stream",
     "text": [
      "[[1 2 3 3 4 5 1 2 3 3 4 5]]\n"
     ]
    },
    {
     "data": {
      "text/plain": [
       "array([[1],\n",
       "       [2],\n",
       "       [3],\n",
       "       [3],\n",
       "       [4],\n",
       "       [5],\n",
       "       [1],\n",
       "       [2],\n",
       "       [3],\n",
       "       [3],\n",
       "       [4],\n",
       "       [5]])"
      ]
     },
     "execution_count": 53,
     "metadata": {},
     "output_type": "execute_result"
    }
   ],
   "source": [
    "# reshape the array to 1 x 12\n",
    "fun = np.reshape(z,(1,12))\n",
    "print fun\n",
    "\n",
    "np.transpose(fun)"
   ]
  },
  {
   "cell_type": "raw",
   "metadata": {
    "collapsed": false
   },
   "source": []
  },
  {
   "cell_type": "code",
   "execution_count": 180,
   "metadata": {
    "collapsed": false
   },
   "outputs": [
    {
     "name": "stdout",
     "output_type": "stream",
     "text": [
      "[[1 2 3 3 4 5 1 2 3 3 4 5]]\n",
      "4\n"
     ]
    }
   ],
   "source": [
    "# indexing method 1\n",
    "#find the 5th value\n",
    "print fun\n",
    "print fun[0, 4]"
   ]
  },
  {
   "cell_type": "code",
   "execution_count": 179,
   "metadata": {
    "collapsed": false
   },
   "outputs": [
    {
     "name": "stdout",
     "output_type": "stream",
     "text": [
      "[[1 2 3 3 4 5 1 2 3 3 4 5]]\n",
      "4\n"
     ]
    }
   ],
   "source": [
    "# indexing method 2\n",
    "# find the 2nd to the last value\n",
    "print fun\n",
    "print fun[0, -2]"
   ]
  },
  {
   "cell_type": "code",
   "execution_count": 178,
   "metadata": {
    "collapsed": false
   },
   "outputs": [
    {
     "name": "stdout",
     "output_type": "stream",
     "text": [
      "[[1 2 3 3 4 5 1 2 3 3 4 5]]\n",
      "[3 3 4]\n"
     ]
    }
   ],
   "source": [
    "# indexing method 3\n",
    "# find the elements 2 to 5 (starting at 0)\n",
    "print fun\n",
    "print fun[0, 2:5]\n"
   ]
  },
  {
   "cell_type": "code",
   "execution_count": 177,
   "metadata": {
    "collapsed": false
   },
   "outputs": [
    {
     "name": "stdout",
     "output_type": "stream",
     "text": [
      "[[1 2 3 3 4 5 1 2 3 3 4 5]]\n",
      "[1 2 3 6]\n",
      "\n",
      "\n",
      "[2 3 3 1]\n"
     ]
    }
   ],
   "source": [
    "# indexing method 4\n",
    "# find elements 1,2,3 and 6 (try to index using an array)\n",
    "index = np.array([1,2,3,6])\n",
    "\n",
    "print fun\n",
    "print index\n",
    "print '\\n'\n",
    "print fun[0, index]\n",
    "\n"
   ]
  },
  {
   "cell_type": "code",
   "execution_count": 169,
   "metadata": {
    "collapsed": false
   },
   "outputs": [
    {
     "name": "stdout",
     "output_type": "stream",
     "text": [
      "[[1 2 3 3 4 5 1 2 3 3 4 5]]\n",
      "[[False False False False False  True False False False False False  True]]\n",
      "\n",
      "\n",
      "[5 5]\n"
     ]
    }
   ],
   "source": [
    "# indexing method 5\n",
    "# find values in x > 4\n",
    "print fun\n",
    "greater_4 = fun > 4\n",
    "print greater_4\n",
    "print '\\n'\n",
    "print fun[greater_4]\n"
   ]
  },
  {
   "cell_type": "code",
   "execution_count": 189,
   "metadata": {
    "collapsed": false
   },
   "outputs": [
    {
     "name": "stdout",
     "output_type": "stream",
     "text": [
      "[[[1 2]\n",
      "  [3 3]]\n",
      "\n",
      " [[4 5]\n",
      "  [1 2]]\n",
      "\n",
      " [[3 3]\n",
      "  [4 5]]]\n",
      "3\n",
      "2\n",
      "2\n",
      "2\n",
      "(3, 2, 2)\n"
     ]
    }
   ],
   "source": [
    "# indexing method 6\n",
    "# \n",
    "y = np.reshape(fun, (3,2,2))\n",
    "print y\n",
    "print len(y)\n",
    "print len(y[0])\n",
    "print len(y[0][0])\n",
    "print len(y[1])\n",
    "print np.shape(y)\n"
   ]
  },
  {
   "cell_type": "code",
   "execution_count": null,
   "metadata": {
    "collapsed": true
   },
   "outputs": [],
   "source": []
  }
 ],
 "metadata": {
  "anaconda-cloud": {},
  "kernelspec": {
   "display_name": "Python [default]",
   "language": "python",
   "name": "python2"
  },
  "language_info": {
   "codemirror_mode": {
    "name": "ipython",
    "version": 2
   },
   "file_extension": ".py",
   "mimetype": "text/x-python",
   "name": "python",
   "nbconvert_exporter": "python",
   "pygments_lexer": "ipython2",
   "version": "2.7.12"
  }
 },
 "nbformat": 4,
 "nbformat_minor": 0
}
